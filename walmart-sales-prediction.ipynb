{
 "cells": [
  {
   "cell_type": "markdown",
   "id": "91107cff",
   "metadata": {
    "papermill": {
     "duration": 0.018003,
     "end_time": "2024-10-07T19:41:31.701089",
     "exception": false,
     "start_time": "2024-10-07T19:41:31.683086",
     "status": "completed"
    },
    "tags": []
   },
   "source": [
    "# Problem Statement :\n",
    "A walmart retail store that has multiple outlets across the country are facing issues in managing the\n",
    "inventory - to match the demand with respect to supply. \n",
    "#  Problem Objective:\n",
    "Predicting future sales for a company is one of the most important aspects of strategic planning.\n",
    "Using the data and make prediction models to forecast the sales for 12 months/years.\n",
    "# Choosing the Algorithm for the Project:\n",
    "perform dertailed EDA & RandomForestRegressor and xgboostRegressor identifies the best performing stores across the country"
   ]
  },
  {
   "cell_type": "markdown",
   "id": "c9fc1e5d",
   "metadata": {
    "papermill": {
     "duration": 0.017257,
     "end_time": "2024-10-07T19:41:31.736321",
     "exception": false,
     "start_time": "2024-10-07T19:41:31.719064",
     "status": "completed"
    },
    "tags": []
   },
   "source": [
    "# Dataset Information:"
   ]
  },
  {
   "cell_type": "markdown",
   "id": "179ec734",
   "metadata": {
    "papermill": {
     "duration": 0.017597,
     "end_time": "2024-10-07T19:41:31.771379",
     "exception": false,
     "start_time": "2024-10-07T19:41:31.753782",
     "status": "completed"
    },
    "tags": []
   },
   "source": [
    "The walmart.csv contains 6435 rows and 8 columns.\n",
    "# Feature Name  :   Description\n",
    "1. Store        :   Store number\n",
    "2. Date         :   Week of Sales\n",
    "3. Weekly_Sales :   Sales for the given store in that week\n",
    "4. Holiday_Flag :   If it is a holiday week\n",
    "5. Temperature  :   Temperature on the day of the sale\n",
    "6. Fuel_Price   :   Cost of the fuel in the region\n",
    "7. CPI          :   Consumer Price Index\n",
    "8. Unemployment :   Unemployment Rate"
   ]
  },
  {
   "cell_type": "markdown",
   "id": "08ea0569",
   "metadata": {
    "papermill": {
     "duration": 0.016975,
     "end_time": "2024-10-07T19:41:31.805735",
     "exception": false,
     "start_time": "2024-10-07T19:41:31.788760",
     "status": "completed"
    },
    "tags": []
   },
   "source": [
    "# Importing required libraries:"
   ]
  },
  {
   "cell_type": "code",
   "execution_count": 1,
   "id": "693d3eeb",
   "metadata": {
    "execution": {
     "iopub.execute_input": "2024-10-07T19:41:31.842702Z",
     "iopub.status.busy": "2024-10-07T19:41:31.842245Z",
     "iopub.status.idle": "2024-10-07T19:41:35.124442Z",
     "shell.execute_reply": "2024-10-07T19:41:35.123329Z"
    },
    "papermill": {
     "duration": 3.303985,
     "end_time": "2024-10-07T19:41:35.127058",
     "exception": false,
     "start_time": "2024-10-07T19:41:31.823073",
     "status": "completed"
    },
    "tags": []
   },
   "outputs": [],
   "source": [
    "import pandas as pd \n",
    "import numpy as np\n",
    "import matplotlib.pyplot as plt\n",
    "import seaborn as sns\n",
    "from sklearn.preprocessing import StandardScaler\n",
    "from sklearn.model_selection import train_test_split\n",
    "from sklearn.linear_model import LinearRegression\n",
    "from sklearn.tree import DecisionTreeRegressor\n",
    "from sklearn.ensemble import RandomForestRegressor\n",
    "from xgboost import XGBRegressor\n",
    "from sklearn import metrics\n",
    "from sklearn.metrics import mean_squared_error, mean_absolute_error, r2_score\n",
    "import warnings\n",
    "warnings.filterwarnings('ignore')"
   ]
  },
  {
   "cell_type": "markdown",
   "id": "936d7ecf",
   "metadata": {
    "papermill": {
     "duration": 0.01704,
     "end_time": "2024-10-07T19:41:35.161722",
     "exception": false,
     "start_time": "2024-10-07T19:41:35.144682",
     "status": "completed"
    },
    "tags": []
   },
   "source": [
    "# Importing  Dataset:"
   ]
  },
  {
   "cell_type": "code",
   "execution_count": 2,
   "id": "16efc02d",
   "metadata": {
    "execution": {
     "iopub.execute_input": "2024-10-07T19:41:35.199083Z",
     "iopub.status.busy": "2024-10-07T19:41:35.198083Z",
     "iopub.status.idle": "2024-10-07T19:41:35.270832Z",
     "shell.execute_reply": "2024-10-07T19:41:35.269690Z"
    },
    "papermill": {
     "duration": 0.09442,
     "end_time": "2024-10-07T19:41:35.273617",
     "exception": false,
     "start_time": "2024-10-07T19:41:35.179197",
     "status": "completed"
    },
    "tags": []
   },
   "outputs": [
    {
     "data": {
      "text/html": [
       "<div>\n",
       "<style scoped>\n",
       "    .dataframe tbody tr th:only-of-type {\n",
       "        vertical-align: middle;\n",
       "    }\n",
       "\n",
       "    .dataframe tbody tr th {\n",
       "        vertical-align: top;\n",
       "    }\n",
       "\n",
       "    .dataframe thead th {\n",
       "        text-align: right;\n",
       "    }\n",
       "</style>\n",
       "<table border=\"1\" class=\"dataframe\">\n",
       "  <thead>\n",
       "    <tr style=\"text-align: right;\">\n",
       "      <th></th>\n",
       "      <th>Store</th>\n",
       "      <th>Date</th>\n",
       "      <th>Weekly_Sales</th>\n",
       "      <th>Holiday_Flag</th>\n",
       "      <th>Temperature</th>\n",
       "      <th>Fuel_Price</th>\n",
       "      <th>CPI</th>\n",
       "      <th>Unemployment</th>\n",
       "    </tr>\n",
       "  </thead>\n",
       "  <tbody>\n",
       "    <tr>\n",
       "      <th>0</th>\n",
       "      <td>1</td>\n",
       "      <td>05-02-2010</td>\n",
       "      <td>1643690.90</td>\n",
       "      <td>0</td>\n",
       "      <td>42.31</td>\n",
       "      <td>2.572</td>\n",
       "      <td>211.096358</td>\n",
       "      <td>8.106</td>\n",
       "    </tr>\n",
       "    <tr>\n",
       "      <th>1</th>\n",
       "      <td>1</td>\n",
       "      <td>12-02-2010</td>\n",
       "      <td>1641957.44</td>\n",
       "      <td>1</td>\n",
       "      <td>38.51</td>\n",
       "      <td>2.548</td>\n",
       "      <td>211.242170</td>\n",
       "      <td>8.106</td>\n",
       "    </tr>\n",
       "    <tr>\n",
       "      <th>2</th>\n",
       "      <td>1</td>\n",
       "      <td>19-02-2010</td>\n",
       "      <td>1611968.17</td>\n",
       "      <td>0</td>\n",
       "      <td>39.93</td>\n",
       "      <td>2.514</td>\n",
       "      <td>211.289143</td>\n",
       "      <td>8.106</td>\n",
       "    </tr>\n",
       "    <tr>\n",
       "      <th>3</th>\n",
       "      <td>1</td>\n",
       "      <td>26-02-2010</td>\n",
       "      <td>1409727.59</td>\n",
       "      <td>0</td>\n",
       "      <td>46.63</td>\n",
       "      <td>2.561</td>\n",
       "      <td>211.319643</td>\n",
       "      <td>8.106</td>\n",
       "    </tr>\n",
       "    <tr>\n",
       "      <th>4</th>\n",
       "      <td>1</td>\n",
       "      <td>05-03-2010</td>\n",
       "      <td>1554806.68</td>\n",
       "      <td>0</td>\n",
       "      <td>46.50</td>\n",
       "      <td>2.625</td>\n",
       "      <td>211.350143</td>\n",
       "      <td>8.106</td>\n",
       "    </tr>\n",
       "    <tr>\n",
       "      <th>...</th>\n",
       "      <td>...</td>\n",
       "      <td>...</td>\n",
       "      <td>...</td>\n",
       "      <td>...</td>\n",
       "      <td>...</td>\n",
       "      <td>...</td>\n",
       "      <td>...</td>\n",
       "      <td>...</td>\n",
       "    </tr>\n",
       "    <tr>\n",
       "      <th>6430</th>\n",
       "      <td>45</td>\n",
       "      <td>28-09-2012</td>\n",
       "      <td>713173.95</td>\n",
       "      <td>0</td>\n",
       "      <td>64.88</td>\n",
       "      <td>3.997</td>\n",
       "      <td>192.013558</td>\n",
       "      <td>8.684</td>\n",
       "    </tr>\n",
       "    <tr>\n",
       "      <th>6431</th>\n",
       "      <td>45</td>\n",
       "      <td>05-10-2012</td>\n",
       "      <td>733455.07</td>\n",
       "      <td>0</td>\n",
       "      <td>64.89</td>\n",
       "      <td>3.985</td>\n",
       "      <td>192.170412</td>\n",
       "      <td>8.667</td>\n",
       "    </tr>\n",
       "    <tr>\n",
       "      <th>6432</th>\n",
       "      <td>45</td>\n",
       "      <td>12-10-2012</td>\n",
       "      <td>734464.36</td>\n",
       "      <td>0</td>\n",
       "      <td>54.47</td>\n",
       "      <td>4.000</td>\n",
       "      <td>192.327265</td>\n",
       "      <td>8.667</td>\n",
       "    </tr>\n",
       "    <tr>\n",
       "      <th>6433</th>\n",
       "      <td>45</td>\n",
       "      <td>19-10-2012</td>\n",
       "      <td>718125.53</td>\n",
       "      <td>0</td>\n",
       "      <td>56.47</td>\n",
       "      <td>3.969</td>\n",
       "      <td>192.330854</td>\n",
       "      <td>8.667</td>\n",
       "    </tr>\n",
       "    <tr>\n",
       "      <th>6434</th>\n",
       "      <td>45</td>\n",
       "      <td>26-10-2012</td>\n",
       "      <td>760281.43</td>\n",
       "      <td>0</td>\n",
       "      <td>58.85</td>\n",
       "      <td>3.882</td>\n",
       "      <td>192.308899</td>\n",
       "      <td>8.667</td>\n",
       "    </tr>\n",
       "  </tbody>\n",
       "</table>\n",
       "<p>6435 rows × 8 columns</p>\n",
       "</div>"
      ],
      "text/plain": [
       "      Store        Date  Weekly_Sales  Holiday_Flag  Temperature  Fuel_Price  \\\n",
       "0         1  05-02-2010    1643690.90             0        42.31       2.572   \n",
       "1         1  12-02-2010    1641957.44             1        38.51       2.548   \n",
       "2         1  19-02-2010    1611968.17             0        39.93       2.514   \n",
       "3         1  26-02-2010    1409727.59             0        46.63       2.561   \n",
       "4         1  05-03-2010    1554806.68             0        46.50       2.625   \n",
       "...     ...         ...           ...           ...          ...         ...   \n",
       "6430     45  28-09-2012     713173.95             0        64.88       3.997   \n",
       "6431     45  05-10-2012     733455.07             0        64.89       3.985   \n",
       "6432     45  12-10-2012     734464.36             0        54.47       4.000   \n",
       "6433     45  19-10-2012     718125.53             0        56.47       3.969   \n",
       "6434     45  26-10-2012     760281.43             0        58.85       3.882   \n",
       "\n",
       "             CPI  Unemployment  \n",
       "0     211.096358         8.106  \n",
       "1     211.242170         8.106  \n",
       "2     211.289143         8.106  \n",
       "3     211.319643         8.106  \n",
       "4     211.350143         8.106  \n",
       "...          ...           ...  \n",
       "6430  192.013558         8.684  \n",
       "6431  192.170412         8.667  \n",
       "6432  192.327265         8.667  \n",
       "6433  192.330854         8.667  \n",
       "6434  192.308899         8.667  \n",
       "\n",
       "[6435 rows x 8 columns]"
      ]
     },
     "execution_count": 2,
     "metadata": {},
     "output_type": "execute_result"
    }
   ],
   "source": [
    "df = pd.read_csv(r\"/kaggle/input/walmart-sales-data/Walmart DataSet.csv\")\n",
    "df"
   ]
  },
  {
   "cell_type": "code",
   "execution_count": 3,
   "id": "17ac79c8",
   "metadata": {
    "execution": {
     "iopub.execute_input": "2024-10-07T19:41:35.312229Z",
     "iopub.status.busy": "2024-10-07T19:41:35.311815Z",
     "iopub.status.idle": "2024-10-07T19:41:35.321010Z",
     "shell.execute_reply": "2024-10-07T19:41:35.319597Z"
    },
    "papermill": {
     "duration": 0.031672,
     "end_time": "2024-10-07T19:41:35.323473",
     "exception": false,
     "start_time": "2024-10-07T19:41:35.291801",
     "status": "completed"
    },
    "tags": []
   },
   "outputs": [
    {
     "data": {
      "text/plain": [
       "Store             int64\n",
       "Date             object\n",
       "Weekly_Sales    float64\n",
       "Holiday_Flag      int64\n",
       "Temperature     float64\n",
       "Fuel_Price      float64\n",
       "CPI             float64\n",
       "Unemployment    float64\n",
       "dtype: object"
      ]
     },
     "execution_count": 3,
     "metadata": {},
     "output_type": "execute_result"
    }
   ],
   "source": [
    "# to check the data types.\n",
    "df.dtypes"
   ]
  },
  {
   "cell_type": "code",
   "execution_count": 4,
   "id": "b9b3eb41",
   "metadata": {
    "execution": {
     "iopub.execute_input": "2024-10-07T19:41:35.361560Z",
     "iopub.status.busy": "2024-10-07T19:41:35.361131Z",
     "iopub.status.idle": "2024-10-07T19:41:35.372540Z",
     "shell.execute_reply": "2024-10-07T19:41:35.371389Z"
    },
    "papermill": {
     "duration": 0.032998,
     "end_time": "2024-10-07T19:41:35.374833",
     "exception": false,
     "start_time": "2024-10-07T19:41:35.341835",
     "status": "completed"
    },
    "tags": []
   },
   "outputs": [
    {
     "data": {
      "text/plain": [
       "Store           0\n",
       "Date            0\n",
       "Weekly_Sales    0\n",
       "Holiday_Flag    0\n",
       "Temperature     0\n",
       "Fuel_Price      0\n",
       "CPI             0\n",
       "Unemployment    0\n",
       "dtype: int64"
      ]
     },
     "execution_count": 4,
     "metadata": {},
     "output_type": "execute_result"
    }
   ],
   "source": [
    "# to check the presence of null values.\n",
    "df.isnull().sum()"
   ]
  },
  {
   "cell_type": "markdown",
   "id": "a9e4a5a9",
   "metadata": {
    "papermill": {
     "duration": 0.017666,
     "end_time": "2024-10-07T19:41:35.410816",
     "exception": false,
     "start_time": "2024-10-07T19:41:35.393150",
     "status": "completed"
    },
    "tags": []
   },
   "source": [
    "# Information of the Data:"
   ]
  },
  {
   "cell_type": "code",
   "execution_count": 5,
   "id": "b5542791",
   "metadata": {
    "execution": {
     "iopub.execute_input": "2024-10-07T19:41:35.449019Z",
     "iopub.status.busy": "2024-10-07T19:41:35.448193Z",
     "iopub.status.idle": "2024-10-07T19:41:35.475373Z",
     "shell.execute_reply": "2024-10-07T19:41:35.473939Z"
    },
    "papermill": {
     "duration": 0.049023,
     "end_time": "2024-10-07T19:41:35.477828",
     "exception": false,
     "start_time": "2024-10-07T19:41:35.428805",
     "status": "completed"
    },
    "tags": []
   },
   "outputs": [
    {
     "name": "stdout",
     "output_type": "stream",
     "text": [
      "<class 'pandas.core.frame.DataFrame'>\n",
      "RangeIndex: 6435 entries, 0 to 6434\n",
      "Data columns (total 8 columns):\n",
      " #   Column        Non-Null Count  Dtype  \n",
      "---  ------        --------------  -----  \n",
      " 0   Store         6435 non-null   int64  \n",
      " 1   Date          6435 non-null   object \n",
      " 2   Weekly_Sales  6435 non-null   float64\n",
      " 3   Holiday_Flag  6435 non-null   int64  \n",
      " 4   Temperature   6435 non-null   float64\n",
      " 5   Fuel_Price    6435 non-null   float64\n",
      " 6   CPI           6435 non-null   float64\n",
      " 7   Unemployment  6435 non-null   float64\n",
      "dtypes: float64(5), int64(2), object(1)\n",
      "memory usage: 402.3+ KB\n"
     ]
    }
   ],
   "source": [
    "# Basic information about the dataset.\n",
    "df.info()"
   ]
  },
  {
   "cell_type": "code",
   "execution_count": 6,
   "id": "64da8f2a",
   "metadata": {
    "execution": {
     "iopub.execute_input": "2024-10-07T19:41:35.574248Z",
     "iopub.status.busy": "2024-10-07T19:41:35.573861Z",
     "iopub.status.idle": "2024-10-07T19:41:35.587368Z",
     "shell.execute_reply": "2024-10-07T19:41:35.586184Z"
    },
    "papermill": {
     "duration": 0.036087,
     "end_time": "2024-10-07T19:41:35.589795",
     "exception": false,
     "start_time": "2024-10-07T19:41:35.553708",
     "status": "completed"
    },
    "tags": []
   },
   "outputs": [],
   "source": [
    "# Date column is in object type so converting 'date' column to a datetime type.\n",
    "df['Date'] = pd.to_datetime(df['Date'], format='%d-%m-%Y')"
   ]
  },
  {
   "cell_type": "code",
   "execution_count": 7,
   "id": "d2a05ce2",
   "metadata": {
    "execution": {
     "iopub.execute_input": "2024-10-07T19:41:35.629363Z",
     "iopub.status.busy": "2024-10-07T19:41:35.628340Z",
     "iopub.status.idle": "2024-10-07T19:41:35.637066Z",
     "shell.execute_reply": "2024-10-07T19:41:35.636000Z"
    },
    "papermill": {
     "duration": 0.031258,
     "end_time": "2024-10-07T19:41:35.639573",
     "exception": false,
     "start_time": "2024-10-07T19:41:35.608315",
     "status": "completed"
    },
    "tags": []
   },
   "outputs": [
    {
     "data": {
      "text/plain": [
       "Store                    int64\n",
       "Date            datetime64[ns]\n",
       "Weekly_Sales           float64\n",
       "Holiday_Flag             int64\n",
       "Temperature            float64\n",
       "Fuel_Price             float64\n",
       "CPI                    float64\n",
       "Unemployment           float64\n",
       "dtype: object"
      ]
     },
     "execution_count": 7,
     "metadata": {},
     "output_type": "execute_result"
    }
   ],
   "source": [
    "df.dtypes"
   ]
  },
  {
   "cell_type": "markdown",
   "id": "fd6fce94",
   "metadata": {
    "papermill": {
     "duration": 0.018749,
     "end_time": "2024-10-07T19:41:35.677186",
     "exception": false,
     "start_time": "2024-10-07T19:41:35.658437",
     "status": "completed"
    },
    "tags": []
   },
   "source": [
    "# Splitting Date column:"
   ]
  },
  {
   "cell_type": "markdown",
   "id": "148d0805",
   "metadata": {
    "papermill": {
     "duration": 0.018509,
     "end_time": "2024-10-07T19:41:35.714319",
     "exception": false,
     "start_time": "2024-10-07T19:41:35.695810",
     "status": "completed"
    },
    "tags": []
   },
   "source": [
    "Splitting Date column into week, month and year for future calculations:"
   ]
  },
  {
   "cell_type": "code",
   "execution_count": 8,
   "id": "4df7ed56",
   "metadata": {
    "execution": {
     "iopub.execute_input": "2024-10-07T19:41:35.754287Z",
     "iopub.status.busy": "2024-10-07T19:41:35.753088Z",
     "iopub.status.idle": "2024-10-07T19:41:35.764171Z",
     "shell.execute_reply": "2024-10-07T19:41:35.763237Z"
    },
    "papermill": {
     "duration": 0.033888,
     "end_time": "2024-10-07T19:41:35.766677",
     "exception": false,
     "start_time": "2024-10-07T19:41:35.732789",
     "status": "completed"
    },
    "tags": []
   },
   "outputs": [],
   "source": [
    "df['day'] =df['Date'].dt.day\n",
    "df['month'] =df['Date'].dt.month \n",
    "df['year'] =df['Date'].dt.year"
   ]
  },
  {
   "cell_type": "code",
   "execution_count": 9,
   "id": "9e6749e9",
   "metadata": {
    "execution": {
     "iopub.execute_input": "2024-10-07T19:41:35.805789Z",
     "iopub.status.busy": "2024-10-07T19:41:35.805345Z",
     "iopub.status.idle": "2024-10-07T19:41:35.823053Z",
     "shell.execute_reply": "2024-10-07T19:41:35.821968Z"
    },
    "papermill": {
     "duration": 0.040012,
     "end_time": "2024-10-07T19:41:35.825430",
     "exception": false,
     "start_time": "2024-10-07T19:41:35.785418",
     "status": "completed"
    },
    "scrolled": true,
    "tags": []
   },
   "outputs": [
    {
     "data": {
      "text/html": [
       "<div>\n",
       "<style scoped>\n",
       "    .dataframe tbody tr th:only-of-type {\n",
       "        vertical-align: middle;\n",
       "    }\n",
       "\n",
       "    .dataframe tbody tr th {\n",
       "        vertical-align: top;\n",
       "    }\n",
       "\n",
       "    .dataframe thead th {\n",
       "        text-align: right;\n",
       "    }\n",
       "</style>\n",
       "<table border=\"1\" class=\"dataframe\">\n",
       "  <thead>\n",
       "    <tr style=\"text-align: right;\">\n",
       "      <th></th>\n",
       "      <th>Store</th>\n",
       "      <th>Date</th>\n",
       "      <th>Weekly_Sales</th>\n",
       "      <th>Holiday_Flag</th>\n",
       "      <th>Temperature</th>\n",
       "      <th>Fuel_Price</th>\n",
       "      <th>CPI</th>\n",
       "      <th>Unemployment</th>\n",
       "      <th>day</th>\n",
       "      <th>month</th>\n",
       "      <th>year</th>\n",
       "    </tr>\n",
       "  </thead>\n",
       "  <tbody>\n",
       "    <tr>\n",
       "      <th>0</th>\n",
       "      <td>1</td>\n",
       "      <td>2010-02-05</td>\n",
       "      <td>1643690.90</td>\n",
       "      <td>0</td>\n",
       "      <td>42.31</td>\n",
       "      <td>2.572</td>\n",
       "      <td>211.096358</td>\n",
       "      <td>8.106</td>\n",
       "      <td>5</td>\n",
       "      <td>2</td>\n",
       "      <td>2010</td>\n",
       "    </tr>\n",
       "    <tr>\n",
       "      <th>1</th>\n",
       "      <td>1</td>\n",
       "      <td>2010-02-12</td>\n",
       "      <td>1641957.44</td>\n",
       "      <td>1</td>\n",
       "      <td>38.51</td>\n",
       "      <td>2.548</td>\n",
       "      <td>211.242170</td>\n",
       "      <td>8.106</td>\n",
       "      <td>12</td>\n",
       "      <td>2</td>\n",
       "      <td>2010</td>\n",
       "    </tr>\n",
       "    <tr>\n",
       "      <th>2</th>\n",
       "      <td>1</td>\n",
       "      <td>2010-02-19</td>\n",
       "      <td>1611968.17</td>\n",
       "      <td>0</td>\n",
       "      <td>39.93</td>\n",
       "      <td>2.514</td>\n",
       "      <td>211.289143</td>\n",
       "      <td>8.106</td>\n",
       "      <td>19</td>\n",
       "      <td>2</td>\n",
       "      <td>2010</td>\n",
       "    </tr>\n",
       "    <tr>\n",
       "      <th>3</th>\n",
       "      <td>1</td>\n",
       "      <td>2010-02-26</td>\n",
       "      <td>1409727.59</td>\n",
       "      <td>0</td>\n",
       "      <td>46.63</td>\n",
       "      <td>2.561</td>\n",
       "      <td>211.319643</td>\n",
       "      <td>8.106</td>\n",
       "      <td>26</td>\n",
       "      <td>2</td>\n",
       "      <td>2010</td>\n",
       "    </tr>\n",
       "    <tr>\n",
       "      <th>4</th>\n",
       "      <td>1</td>\n",
       "      <td>2010-03-05</td>\n",
       "      <td>1554806.68</td>\n",
       "      <td>0</td>\n",
       "      <td>46.50</td>\n",
       "      <td>2.625</td>\n",
       "      <td>211.350143</td>\n",
       "      <td>8.106</td>\n",
       "      <td>5</td>\n",
       "      <td>3</td>\n",
       "      <td>2010</td>\n",
       "    </tr>\n",
       "  </tbody>\n",
       "</table>\n",
       "</div>"
      ],
      "text/plain": [
       "   Store       Date  Weekly_Sales  Holiday_Flag  Temperature  Fuel_Price  \\\n",
       "0      1 2010-02-05    1643690.90             0        42.31       2.572   \n",
       "1      1 2010-02-12    1641957.44             1        38.51       2.548   \n",
       "2      1 2010-02-19    1611968.17             0        39.93       2.514   \n",
       "3      1 2010-02-26    1409727.59             0        46.63       2.561   \n",
       "4      1 2010-03-05    1554806.68             0        46.50       2.625   \n",
       "\n",
       "          CPI  Unemployment  day  month  year  \n",
       "0  211.096358         8.106    5      2  2010  \n",
       "1  211.242170         8.106   12      2  2010  \n",
       "2  211.289143         8.106   19      2  2010  \n",
       "3  211.319643         8.106   26      2  2010  \n",
       "4  211.350143         8.106    5      3  2010  "
      ]
     },
     "execution_count": 9,
     "metadata": {},
     "output_type": "execute_result"
    }
   ],
   "source": [
    "df.head()"
   ]
  },
  {
   "cell_type": "code",
   "execution_count": 10,
   "id": "0a8d2d9a",
   "metadata": {
    "execution": {
     "iopub.execute_input": "2024-10-07T19:41:35.866213Z",
     "iopub.status.busy": "2024-10-07T19:41:35.865211Z",
     "iopub.status.idle": "2024-10-07T19:41:35.878101Z",
     "shell.execute_reply": "2024-10-07T19:41:35.876999Z"
    },
    "papermill": {
     "duration": 0.035656,
     "end_time": "2024-10-07T19:41:35.880506",
     "exception": false,
     "start_time": "2024-10-07T19:41:35.844850",
     "status": "completed"
    },
    "tags": []
   },
   "outputs": [
    {
     "data": {
      "text/plain": [
       "month\n",
       "1     9.238846e+05\n",
       "2     1.053200e+06\n",
       "3     1.013309e+06\n",
       "4     1.026762e+06\n",
       "5     1.031714e+06\n",
       "6     1.064325e+06\n",
       "7     1.031748e+06\n",
       "8     1.048017e+06\n",
       "9     9.893353e+05\n",
       "10    9.996321e+05\n",
       "11    1.147266e+06\n",
       "12    1.281864e+06\n",
       "Name: Weekly_Sales, dtype: float64"
      ]
     },
     "execution_count": 10,
     "metadata": {},
     "output_type": "execute_result"
    }
   ],
   "source": [
    "# To get Month wise average weekly sales:\n",
    "df.groupby('month')['Weekly_Sales'].mean()"
   ]
  },
  {
   "cell_type": "markdown",
   "id": "7f46c54e",
   "metadata": {
    "papermill": {
     "duration": 0.018811,
     "end_time": "2024-10-07T19:41:35.918652",
     "exception": false,
     "start_time": "2024-10-07T19:41:35.899841",
     "status": "completed"
    },
    "tags": []
   },
   "source": [
    "# Visualizing Month wise average Weekly sales:"
   ]
  },
  {
   "cell_type": "code",
   "execution_count": 11,
   "id": "b11f12b0",
   "metadata": {
    "execution": {
     "iopub.execute_input": "2024-10-07T19:41:35.959364Z",
     "iopub.status.busy": "2024-10-07T19:41:35.958486Z",
     "iopub.status.idle": "2024-10-07T19:41:36.200420Z",
     "shell.execute_reply": "2024-10-07T19:41:36.199232Z"
    },
    "papermill": {
     "duration": 0.265201,
     "end_time": "2024-10-07T19:41:36.202888",
     "exception": false,
     "start_time": "2024-10-07T19:41:35.937687",
     "status": "completed"
    },
    "tags": []
   },
   "outputs": [
    {
     "data": {
      "image/png": "[encoded data removed]",
      "text/plain": [
       "<Figure size 640x480 with 1 Axes>"
      ]
     },
     "metadata": {},
     "output_type": "display_data"
    }
   ],
   "source": [
    "# to see the best month for sales\n",
    "month_by_sales=df.groupby('month')['Weekly_Sales'].mean()\n",
    "plt.bar(month_by_sales.index,month_by_sales.values)\n",
    "plt.xlabel('month')\n",
    "plt.ylabel('sales')\n",
    "plt.show()"
   ]
  },
  {
   "cell_type": "markdown",
   "id": "a00375e4",
   "metadata": {
    "papermill": {
     "duration": 0.019746,
     "end_time": "2024-10-07T19:41:36.243071",
     "exception": false,
     "start_time": "2024-10-07T19:41:36.223325",
     "status": "completed"
    },
    "tags": []
   },
   "source": [
    "sales looks higher in the month of december"
   ]
  },
  {
   "cell_type": "code",
   "execution_count": 12,
   "id": "6f71d5a5",
   "metadata": {
    "execution": {
     "iopub.execute_input": "2024-10-07T19:41:36.283598Z",
     "iopub.status.busy": "2024-10-07T19:41:36.283167Z",
     "iopub.status.idle": "2024-10-07T19:41:36.293373Z",
     "shell.execute_reply": "2024-10-07T19:41:36.292263Z"
    },
    "papermill": {
     "duration": 0.033423,
     "end_time": "2024-10-07T19:41:36.295745",
     "exception": false,
     "start_time": "2024-10-07T19:41:36.262322",
     "status": "completed"
    },
    "tags": []
   },
   "outputs": [
    {
     "data": {
      "text/plain": [
       "year\n",
       "2010    1.059670e+06\n",
       "2011    1.046239e+06\n",
       "2012    1.033660e+06\n",
       "Name: Weekly_Sales, dtype: float64"
      ]
     },
     "execution_count": 12,
     "metadata": {},
     "output_type": "execute_result"
    }
   ],
   "source": [
    "# Year wise average weekly sales:\n",
    "df.groupby('year')['Weekly_Sales'].mean()"
   ]
  },
  {
   "cell_type": "markdown",
   "id": "e17b796f",
   "metadata": {
    "papermill": {
     "duration": 0.019284,
     "end_time": "2024-10-07T19:41:36.335099",
     "exception": false,
     "start_time": "2024-10-07T19:41:36.315815",
     "status": "completed"
    },
    "tags": []
   },
   "source": [
    "# Year wise Average weekly sales:"
   ]
  },
  {
   "cell_type": "code",
   "execution_count": 13,
   "id": "910f0aaa",
   "metadata": {
    "execution": {
     "iopub.execute_input": "2024-10-07T19:41:36.377197Z",
     "iopub.status.busy": "2024-10-07T19:41:36.376493Z",
     "iopub.status.idle": "2024-10-07T19:41:36.635093Z",
     "shell.execute_reply": "2024-10-07T19:41:36.633962Z"
    },
    "papermill": {
     "duration": 0.283021,
     "end_time": "2024-10-07T19:41:36.637583",
     "exception": false,
     "start_time": "2024-10-07T19:41:36.354562",
     "status": "completed"
    },
    "tags": []
   },
   "outputs": [
    {
     "data": {
      "image/png": "[encoded data removed]",
      "text/plain": [
       "<Figure size 640x480 with 1 Axes>"
      ]
     },
     "metadata": {},
     "output_type": "display_data"
    }
   ],
   "source": [
    "# to see the best year for sales\n",
    "year_by_sales=df.groupby('year')['Weekly_Sales'].mean()\n",
    "plt.bar(year_by_sales.index,year_by_sales.values)\n",
    "plt.xlabel('year')\n",
    "plt.ylabel('sales count')\n",
    "plt.show()"
   ]
  },
  {
   "cell_type": "markdown",
   "id": "ed774232",
   "metadata": {
    "papermill": {
     "duration": 0.019576,
     "end_time": "2024-10-07T19:41:36.677174",
     "exception": false,
     "start_time": "2024-10-07T19:41:36.657598",
     "status": "completed"
    },
    "tags": []
   },
   "source": [
    "Average Yearly sales are looks almost same there is not much difference in it."
   ]
  },
  {
   "cell_type": "markdown",
   "id": "127936b0",
   "metadata": {
    "papermill": {
     "duration": 0.019459,
     "end_time": "2024-10-07T19:41:36.716475",
     "exception": false,
     "start_time": "2024-10-07T19:41:36.697016",
     "status": "completed"
    },
    "tags": []
   },
   "source": [
    "# Description:"
   ]
  },
  {
   "cell_type": "code",
   "execution_count": 14,
   "id": "e5aa9d43",
   "metadata": {
    "execution": {
     "iopub.execute_input": "2024-10-07T19:41:36.758723Z",
     "iopub.status.busy": "2024-10-07T19:41:36.758305Z",
     "iopub.status.idle": "2024-10-07T19:41:36.810924Z",
     "shell.execute_reply": "2024-10-07T19:41:36.809577Z"
    },
    "papermill": {
     "duration": 0.076734,
     "end_time": "2024-10-07T19:41:36.813594",
     "exception": false,
     "start_time": "2024-10-07T19:41:36.736860",
     "status": "completed"
    },
    "scrolled": true,
    "tags": []
   },
   "outputs": [
    {
     "data": {
      "text/html": [
       "<div>\n",
       "<style scoped>\n",
       "    .dataframe tbody tr th:only-of-type {\n",
       "        vertical-align: middle;\n",
       "    }\n",
       "\n",
       "    .dataframe tbody tr th {\n",
       "        vertical-align: top;\n",
       "    }\n",
       "\n",
       "    .dataframe thead th {\n",
       "        text-align: right;\n",
       "    }\n",
       "</style>\n",
       "<table border=\"1\" class=\"dataframe\">\n",
       "  <thead>\n",
       "    <tr style=\"text-align: right;\">\n",
       "      <th></th>\n",
       "      <th>Store</th>\n",
       "      <th>Date</th>\n",
       "      <th>Weekly_Sales</th>\n",
       "      <th>Holiday_Flag</th>\n",
       "      <th>Temperature</th>\n",
       "      <th>Fuel_Price</th>\n",
       "      <th>CPI</th>\n",
       "      <th>Unemployment</th>\n",
       "      <th>day</th>\n",
       "      <th>month</th>\n",
       "      <th>year</th>\n",
       "    </tr>\n",
       "  </thead>\n",
       "  <tbody>\n",
       "    <tr>\n",
       "      <th>count</th>\n",
       "      <td>6435.000000</td>\n",
       "      <td>6435</td>\n",
       "      <td>6.435000e+03</td>\n",
       "      <td>6435.000000</td>\n",
       "      <td>6435.000000</td>\n",
       "      <td>6435.000000</td>\n",
       "      <td>6435.000000</td>\n",
       "      <td>6435.000000</td>\n",
       "      <td>6435.000000</td>\n",
       "      <td>6435.000000</td>\n",
       "      <td>6435.000000</td>\n",
       "    </tr>\n",
       "    <tr>\n",
       "      <th>mean</th>\n",
       "      <td>23.000000</td>\n",
       "      <td>2011-06-17 00:00:00</td>\n",
       "      <td>1.046965e+06</td>\n",
       "      <td>0.069930</td>\n",
       "      <td>60.663782</td>\n",
       "      <td>3.358607</td>\n",
       "      <td>171.578394</td>\n",
       "      <td>7.999151</td>\n",
       "      <td>15.678322</td>\n",
       "      <td>6.447552</td>\n",
       "      <td>2010.965035</td>\n",
       "    </tr>\n",
       "    <tr>\n",
       "      <th>min</th>\n",
       "      <td>1.000000</td>\n",
       "      <td>2010-02-05 00:00:00</td>\n",
       "      <td>2.099862e+05</td>\n",
       "      <td>0.000000</td>\n",
       "      <td>-2.060000</td>\n",
       "      <td>2.472000</td>\n",
       "      <td>126.064000</td>\n",
       "      <td>3.879000</td>\n",
       "      <td>1.000000</td>\n",
       "      <td>1.000000</td>\n",
       "      <td>2010.000000</td>\n",
       "    </tr>\n",
       "    <tr>\n",
       "      <th>25%</th>\n",
       "      <td>12.000000</td>\n",
       "      <td>2010-10-08 00:00:00</td>\n",
       "      <td>5.533501e+05</td>\n",
       "      <td>0.000000</td>\n",
       "      <td>47.460000</td>\n",
       "      <td>2.933000</td>\n",
       "      <td>131.735000</td>\n",
       "      <td>6.891000</td>\n",
       "      <td>8.000000</td>\n",
       "      <td>4.000000</td>\n",
       "      <td>2010.000000</td>\n",
       "    </tr>\n",
       "    <tr>\n",
       "      <th>50%</th>\n",
       "      <td>23.000000</td>\n",
       "      <td>2011-06-17 00:00:00</td>\n",
       "      <td>9.607460e+05</td>\n",
       "      <td>0.000000</td>\n",
       "      <td>62.670000</td>\n",
       "      <td>3.445000</td>\n",
       "      <td>182.616521</td>\n",
       "      <td>7.874000</td>\n",
       "      <td>16.000000</td>\n",
       "      <td>6.000000</td>\n",
       "      <td>2011.000000</td>\n",
       "    </tr>\n",
       "    <tr>\n",
       "      <th>75%</th>\n",
       "      <td>34.000000</td>\n",
       "      <td>2012-02-24 00:00:00</td>\n",
       "      <td>1.420159e+06</td>\n",
       "      <td>0.000000</td>\n",
       "      <td>74.940000</td>\n",
       "      <td>3.735000</td>\n",
       "      <td>212.743293</td>\n",
       "      <td>8.622000</td>\n",
       "      <td>23.000000</td>\n",
       "      <td>9.000000</td>\n",
       "      <td>2012.000000</td>\n",
       "    </tr>\n",
       "    <tr>\n",
       "      <th>max</th>\n",
       "      <td>45.000000</td>\n",
       "      <td>2012-10-26 00:00:00</td>\n",
       "      <td>3.818686e+06</td>\n",
       "      <td>1.000000</td>\n",
       "      <td>100.140000</td>\n",
       "      <td>4.468000</td>\n",
       "      <td>227.232807</td>\n",
       "      <td>14.313000</td>\n",
       "      <td>31.000000</td>\n",
       "      <td>12.000000</td>\n",
       "      <td>2012.000000</td>\n",
       "    </tr>\n",
       "    <tr>\n",
       "      <th>std</th>\n",
       "      <td>12.988182</td>\n",
       "      <td>NaN</td>\n",
       "      <td>5.643666e+05</td>\n",
       "      <td>0.255049</td>\n",
       "      <td>18.444933</td>\n",
       "      <td>0.459020</td>\n",
       "      <td>39.356712</td>\n",
       "      <td>1.875885</td>\n",
       "      <td>8.755780</td>\n",
       "      <td>3.238308</td>\n",
       "      <td>0.797019</td>\n",
       "    </tr>\n",
       "  </tbody>\n",
       "</table>\n",
       "</div>"
      ],
      "text/plain": [
       "             Store                 Date  Weekly_Sales  Holiday_Flag  \\\n",
       "count  6435.000000                 6435  6.435000e+03   6435.000000   \n",
       "mean     23.000000  2011-06-17 00:00:00  1.046965e+06      0.069930   \n",
       "min       1.000000  2010-02-05 00:00:00  2.099862e+05      0.000000   \n",
       "25%      12.000000  2010-10-08 00:00:00  5.533501e+05      0.000000   \n",
       "50%      23.000000  2011-06-17 00:00:00  9.607460e+05      0.000000   \n",
       "75%      34.000000  2012-02-24 00:00:00  1.420159e+06      0.000000   \n",
       "max      45.000000  2012-10-26 00:00:00  3.818686e+06      1.000000   \n",
       "std      12.988182                  NaN  5.643666e+05      0.255049   \n",
       "\n",
       "       Temperature   Fuel_Price          CPI  Unemployment          day  \\\n",
       "count  6435.000000  6435.000000  6435.000000   6435.000000  6435.000000   \n",
       "mean     60.663782     3.358607   171.578394      7.999151    15.678322   \n",
       "min      -2.060000     2.472000   126.064000      3.879000     1.000000   \n",
       "25%      47.460000     2.933000   131.735000      6.891000     8.000000   \n",
       "50%      62.670000     3.445000   182.616521      7.874000    16.000000   \n",
       "75%      74.940000     3.735000   212.743293      8.622000    23.000000   \n",
       "max     100.140000     4.468000   227.232807     14.313000    31.000000   \n",
       "std      18.444933     0.459020    39.356712      1.875885     8.755780   \n",
       "\n",
       "             month         year  \n",
       "count  6435.000000  6435.000000  \n",
       "mean      6.447552  2010.965035  \n",
       "min       1.000000  2010.000000  \n",
       "25%       4.000000  2010.000000  \n",
       "50%       6.000000  2011.000000  \n",
       "75%       9.000000  2012.000000  \n",
       "max      12.000000  2012.000000  \n",
       "std       3.238308     0.797019  "
      ]
     },
     "execution_count": 14,
     "metadata": {},
     "output_type": "execute_result"
    }
   ],
   "source": [
    "# description of the data/ to get statistical insights:\n",
    "df.describe()"
   ]
  },
  {
   "cell_type": "markdown",
   "id": "4174d8e0",
   "metadata": {
    "papermill": {
     "duration": 0.020516,
     "end_time": "2024-10-07T19:41:36.854955",
     "exception": false,
     "start_time": "2024-10-07T19:41:36.834439",
     "status": "completed"
    },
    "tags": []
   },
   "source": [
    "# Heatmap:"
   ]
  },
  {
   "cell_type": "code",
   "execution_count": 15,
   "id": "9bef17ba",
   "metadata": {
    "execution": {
     "iopub.execute_input": "2024-10-07T19:41:36.897775Z",
     "iopub.status.busy": "2024-10-07T19:41:36.897389Z",
     "iopub.status.idle": "2024-10-07T19:41:37.677700Z",
     "shell.execute_reply": "2024-10-07T19:41:37.676564Z"
    },
    "papermill": {
     "duration": 0.805835,
     "end_time": "2024-10-07T19:41:37.681302",
     "exception": false,
     "start_time": "2024-10-07T19:41:36.875467",
     "status": "completed"
    },
    "tags": []
   },
   "outputs": [
    {
     "data": {
      "image/png": "[encoded data removed]",
      "text/plain": [
       "<Figure size 1500x800 with 2 Axes>"
      ]
     },
     "metadata": {},
     "output_type": "display_data"
    }
   ],
   "source": [
    "# Heatmap, Correlation between features of dataset:\n",
    "plt.figure(figsize=(15,8))\n",
    "corr = df.corr()\n",
    "sns.heatmap(corr,vmax=1.0,annot=True)\n",
    "plt.title('Correlation Matrix',fontsize=16)\n",
    "plt.show()"
   ]
  },
  {
   "cell_type": "markdown",
   "id": "5d49a65f",
   "metadata": {
    "papermill": {
     "duration": 0.022081,
     "end_time": "2024-10-07T19:41:37.726325",
     "exception": false,
     "start_time": "2024-10-07T19:41:37.704244",
     "status": "completed"
    },
    "tags": []
   },
   "source": [
    "# Box plot:"
   ]
  },
  {
   "cell_type": "code",
   "execution_count": 16,
   "id": "1a407a77",
   "metadata": {
    "execution": {
     "iopub.execute_input": "2024-10-07T19:41:37.774127Z",
     "iopub.status.busy": "2024-10-07T19:41:37.773733Z",
     "iopub.status.idle": "2024-10-07T19:41:38.248437Z",
     "shell.execute_reply": "2024-10-07T19:41:38.247319Z"
    },
    "papermill": {
     "duration": 0.501685,
     "end_time": "2024-10-07T19:41:38.250827",
     "exception": false,
     "start_time": "2024-10-07T19:41:37.749142",
     "status": "completed"
    },
    "tags": []
   },
   "outputs": [
    {
     "data": {
      "image/png": "[encoded data removed]",
      "text/plain": [
       "<Figure size 1500x500 with 1 Axes>"
      ]
     },
     "metadata": {},
     "output_type": "display_data"
    }
   ],
   "source": [
    "# Box plot visualization for checking outliers:\n",
    "df.boxplot(figsize=(15,5))\n",
    "plt.show()"
   ]
  },
  {
   "cell_type": "code",
   "execution_count": 17,
   "id": "62f2496e",
   "metadata": {
    "execution": {
     "iopub.execute_input": "2024-10-07T19:41:38.298573Z",
     "iopub.status.busy": "2024-10-07T19:41:38.298147Z",
     "iopub.status.idle": "2024-10-07T19:41:38.313524Z",
     "shell.execute_reply": "2024-10-07T19:41:38.312397Z"
    },
    "papermill": {
     "duration": 0.042471,
     "end_time": "2024-10-07T19:41:38.316156",
     "exception": false,
     "start_time": "2024-10-07T19:41:38.273685",
     "status": "completed"
    },
    "tags": []
   },
   "outputs": [],
   "source": [
    "Q1 = df.Weekly_Sales.quantile(0.25)\n",
    "Q3 = df.Weekly_Sales.quantile(0.75)\n",
    "IQR = Q3-Q1\n",
    "df = df[(df.Weekly_Sales >= Q1-1.5*IQR) & (df.Weekly_Sales<=Q3+1.5*IQR)]\n",
    "\n",
    "Q1 = df.Unemployment.quantile(0.25)\n",
    "Q3 = df.Unemployment.quantile(0.75)\n",
    "IQR = Q3-Q1\n",
    "df = df[(df.Unemployment >= Q1-1.5*IQR) & (df.Unemployment<=Q3+1.5*IQR)]"
   ]
  },
  {
   "cell_type": "code",
   "execution_count": 18,
   "id": "94511a38",
   "metadata": {
    "execution": {
     "iopub.execute_input": "2024-10-07T19:41:38.364754Z",
     "iopub.status.busy": "2024-10-07T19:41:38.363901Z",
     "iopub.status.idle": "2024-10-07T19:41:38.842331Z",
     "shell.execute_reply": "2024-10-07T19:41:38.841070Z"
    },
    "papermill": {
     "duration": 0.50549,
     "end_time": "2024-10-07T19:41:38.844975",
     "exception": false,
     "start_time": "2024-10-07T19:41:38.339485",
     "status": "completed"
    },
    "tags": []
   },
   "outputs": [
    {
     "data": {
      "image/png": "[encoded data removed]",
      "text/plain": [
       "<Figure size 1500x500 with 1 Axes>"
      ]
     },
     "metadata": {},
     "output_type": "display_data"
    }
   ],
   "source": [
    "df.boxplot(figsize=(15,5))\n",
    "plt.show()"
   ]
  },
  {
   "cell_type": "code",
   "execution_count": 19,
   "id": "02ee222b",
   "metadata": {
    "execution": {
     "iopub.execute_input": "2024-10-07T19:41:38.894584Z",
     "iopub.status.busy": "2024-10-07T19:41:38.893791Z",
     "iopub.status.idle": "2024-10-07T19:41:38.902551Z",
     "shell.execute_reply": "2024-10-07T19:41:38.901538Z"
    },
    "papermill": {
     "duration": 0.036184,
     "end_time": "2024-10-07T19:41:38.904925",
     "exception": false,
     "start_time": "2024-10-07T19:41:38.868741",
     "status": "completed"
    },
    "tags": []
   },
   "outputs": [
    {
     "data": {
      "text/plain": [
       "Holiday_Flag\n",
       "0    5511\n",
       "1     409\n",
       "Name: count, dtype: int64"
      ]
     },
     "execution_count": 19,
     "metadata": {},
     "output_type": "execute_result"
    }
   ],
   "source": [
    "df['Holiday_Flag'].value_counts()"
   ]
  },
  {
   "cell_type": "code",
   "execution_count": 20,
   "id": "216b2be9",
   "metadata": {
    "execution": {
     "iopub.execute_input": "2024-10-07T19:41:38.953704Z",
     "iopub.status.busy": "2024-10-07T19:41:38.953317Z",
     "iopub.status.idle": "2024-10-07T19:41:39.312230Z",
     "shell.execute_reply": "2024-10-07T19:41:39.311126Z"
    },
    "papermill": {
     "duration": 0.386396,
     "end_time": "2024-10-07T19:41:39.314868",
     "exception": false,
     "start_time": "2024-10-07T19:41:38.928472",
     "status": "completed"
    },
    "tags": []
   },
   "outputs": [
    {
     "data": {
      "text/plain": [
       "<Axes: xlabel='Holiday_Flag', ylabel='Weekly_Sales'>"
      ]
     },
     "execution_count": 20,
     "metadata": {},
     "output_type": "execute_result"
    },
    {
     "data": {
      "image/png": "[encoded data removed]",
      "text/plain": [
       "<Figure size 640x480 with 1 Axes>"
      ]
     },
     "metadata": {},
     "output_type": "display_data"
    }
   ],
   "source": [
    "sns.barplot(x='Holiday_Flag', y='Weekly_Sales', data=df)"
   ]
  },
  {
   "cell_type": "markdown",
   "id": "997a07b2",
   "metadata": {
    "papermill": {
     "duration": 0.023988,
     "end_time": "2024-10-07T19:41:39.363981",
     "exception": false,
     "start_time": "2024-10-07T19:41:39.339993",
     "status": "completed"
    },
    "tags": []
   },
   "source": [
    "# Store wide average weekly sales visualization:"
   ]
  },
  {
   "cell_type": "code",
   "execution_count": 21,
   "id": "42fdf877",
   "metadata": {
    "execution": {
     "iopub.execute_input": "2024-10-07T19:41:39.415951Z",
     "iopub.status.busy": "2024-10-07T19:41:39.415146Z",
     "iopub.status.idle": "2024-10-07T19:41:39.425007Z",
     "shell.execute_reply": "2024-10-07T19:41:39.423940Z"
    },
    "papermill": {
     "duration": 0.037811,
     "end_time": "2024-10-07T19:41:39.427297",
     "exception": false,
     "start_time": "2024-10-07T19:41:39.389486",
     "status": "completed"
    },
    "tags": []
   },
   "outputs": [
    {
     "data": {
      "text/plain": [
       "Index([ 1,  2,  3,  4,  5,  6,  7,  8,  9, 10, 11, 12, 13, 14, 15, 16, 17, 18,\n",
       "       19, 20, 21, 22, 23, 24, 25, 26, 27, 28, 29, 30, 31, 32, 33, 34, 35, 36,\n",
       "       37, 38, 39, 40, 41, 42, 43, 44, 45],\n",
       "      dtype='int64', name='Store')"
      ]
     },
     "execution_count": 21,
     "metadata": {},
     "output_type": "execute_result"
    }
   ],
   "source": [
    "absweekly_sales = df['Weekly_Sales'].groupby(df['Store']).mean()\n",
    "absweekly_sales.index"
   ]
  },
  {
   "cell_type": "code",
   "execution_count": 22,
   "id": "91432fab",
   "metadata": {
    "execution": {
     "iopub.execute_input": "2024-10-07T19:41:39.479474Z",
     "iopub.status.busy": "2024-10-07T19:41:39.479050Z",
     "iopub.status.idle": "2024-10-07T19:41:40.167879Z",
     "shell.execute_reply": "2024-10-07T19:41:40.166720Z"
    },
    "papermill": {
     "duration": 0.717675,
     "end_time": "2024-10-07T19:41:40.170413",
     "exception": false,
     "start_time": "2024-10-07T19:41:39.452738",
     "status": "completed"
    },
    "scrolled": true,
    "tags": []
   },
   "outputs": [
    {
     "data": {
      "image/png": "[encoded data removed]",
      "text/plain": [
       "<Figure size 2000x500 with 1 Axes>"
      ]
     },
     "metadata": {},
     "output_type": "display_data"
    }
   ],
   "source": [
    "weekly_sales = df['Weekly_Sales'].groupby(df['Store']).mean()\n",
    "plt.figure(figsize=(20,5))\n",
    "plt.style.use('default')\n",
    "sns.barplot(x=weekly_sales.index, y=weekly_sales.values)\n",
    "plt.grid()\n",
    "plt.title('Average Sales - per Store', fontsize=15)\n",
    "plt.ylabel('Sales', fontsize=15)\n",
    "plt.xlabel('Store', fontsize=15)\n",
    "plt.show()"
   ]
  },
  {
   "cell_type": "code",
   "execution_count": 23,
   "id": "f3490b54",
   "metadata": {
    "execution": {
     "iopub.execute_input": "2024-10-07T19:41:40.225171Z",
     "iopub.status.busy": "2024-10-07T19:41:40.224789Z",
     "iopub.status.idle": "2024-10-07T19:41:40.243833Z",
     "shell.execute_reply": "2024-10-07T19:41:40.242755Z"
    },
    "papermill": {
     "duration": 0.049712,
     "end_time": "2024-10-07T19:41:40.246105",
     "exception": false,
     "start_time": "2024-10-07T19:41:40.196393",
     "status": "completed"
    },
    "tags": []
   },
   "outputs": [
    {
     "data": {
      "text/html": [
       "<div>\n",
       "<style scoped>\n",
       "    .dataframe tbody tr th:only-of-type {\n",
       "        vertical-align: middle;\n",
       "    }\n",
       "\n",
       "    .dataframe tbody tr th {\n",
       "        vertical-align: top;\n",
       "    }\n",
       "\n",
       "    .dataframe thead th {\n",
       "        text-align: right;\n",
       "    }\n",
       "</style>\n",
       "<table border=\"1\" class=\"dataframe\">\n",
       "  <thead>\n",
       "    <tr style=\"text-align: right;\">\n",
       "      <th></th>\n",
       "      <th>Store</th>\n",
       "      <th>Date</th>\n",
       "      <th>Weekly_Sales</th>\n",
       "      <th>Holiday_Flag</th>\n",
       "      <th>Temperature</th>\n",
       "      <th>Fuel_Price</th>\n",
       "      <th>CPI</th>\n",
       "      <th>Unemployment</th>\n",
       "      <th>day</th>\n",
       "      <th>month</th>\n",
       "      <th>year</th>\n",
       "    </tr>\n",
       "  </thead>\n",
       "  <tbody>\n",
       "    <tr>\n",
       "      <th>0</th>\n",
       "      <td>1</td>\n",
       "      <td>2010-02-05</td>\n",
       "      <td>1643690.90</td>\n",
       "      <td>0</td>\n",
       "      <td>42.31</td>\n",
       "      <td>2.572</td>\n",
       "      <td>211.096358</td>\n",
       "      <td>8.106</td>\n",
       "      <td>5</td>\n",
       "      <td>2</td>\n",
       "      <td>2010</td>\n",
       "    </tr>\n",
       "    <tr>\n",
       "      <th>1</th>\n",
       "      <td>1</td>\n",
       "      <td>2010-02-12</td>\n",
       "      <td>1641957.44</td>\n",
       "      <td>1</td>\n",
       "      <td>38.51</td>\n",
       "      <td>2.548</td>\n",
       "      <td>211.242170</td>\n",
       "      <td>8.106</td>\n",
       "      <td>12</td>\n",
       "      <td>2</td>\n",
       "      <td>2010</td>\n",
       "    </tr>\n",
       "    <tr>\n",
       "      <th>2</th>\n",
       "      <td>1</td>\n",
       "      <td>2010-02-19</td>\n",
       "      <td>1611968.17</td>\n",
       "      <td>0</td>\n",
       "      <td>39.93</td>\n",
       "      <td>2.514</td>\n",
       "      <td>211.289143</td>\n",
       "      <td>8.106</td>\n",
       "      <td>19</td>\n",
       "      <td>2</td>\n",
       "      <td>2010</td>\n",
       "    </tr>\n",
       "    <tr>\n",
       "      <th>3</th>\n",
       "      <td>1</td>\n",
       "      <td>2010-02-26</td>\n",
       "      <td>1409727.59</td>\n",
       "      <td>0</td>\n",
       "      <td>46.63</td>\n",
       "      <td>2.561</td>\n",
       "      <td>211.319643</td>\n",
       "      <td>8.106</td>\n",
       "      <td>26</td>\n",
       "      <td>2</td>\n",
       "      <td>2010</td>\n",
       "    </tr>\n",
       "    <tr>\n",
       "      <th>4</th>\n",
       "      <td>1</td>\n",
       "      <td>2010-03-05</td>\n",
       "      <td>1554806.68</td>\n",
       "      <td>0</td>\n",
       "      <td>46.50</td>\n",
       "      <td>2.625</td>\n",
       "      <td>211.350143</td>\n",
       "      <td>8.106</td>\n",
       "      <td>5</td>\n",
       "      <td>3</td>\n",
       "      <td>2010</td>\n",
       "    </tr>\n",
       "  </tbody>\n",
       "</table>\n",
       "</div>"
      ],
      "text/plain": [
       "   Store       Date  Weekly_Sales  Holiday_Flag  Temperature  Fuel_Price  \\\n",
       "0      1 2010-02-05    1643690.90             0        42.31       2.572   \n",
       "1      1 2010-02-12    1641957.44             1        38.51       2.548   \n",
       "2      1 2010-02-19    1611968.17             0        39.93       2.514   \n",
       "3      1 2010-02-26    1409727.59             0        46.63       2.561   \n",
       "4      1 2010-03-05    1554806.68             0        46.50       2.625   \n",
       "\n",
       "          CPI  Unemployment  day  month  year  \n",
       "0  211.096358         8.106    5      2  2010  \n",
       "1  211.242170         8.106   12      2  2010  \n",
       "2  211.289143         8.106   19      2  2010  \n",
       "3  211.319643         8.106   26      2  2010  \n",
       "4  211.350143         8.106    5      3  2010  "
      ]
     },
     "execution_count": 23,
     "metadata": {},
     "output_type": "execute_result"
    }
   ],
   "source": [
    "df.head()"
   ]
  },
  {
   "cell_type": "code",
   "execution_count": 24,
   "id": "d60e2275",
   "metadata": {
    "execution": {
     "iopub.execute_input": "2024-10-07T19:41:40.300888Z",
     "iopub.status.busy": "2024-10-07T19:41:40.300432Z",
     "iopub.status.idle": "2024-10-07T19:41:40.307605Z",
     "shell.execute_reply": "2024-10-07T19:41:40.306217Z"
    },
    "papermill": {
     "duration": 0.037519,
     "end_time": "2024-10-07T19:41:40.310227",
     "exception": false,
     "start_time": "2024-10-07T19:41:40.272708",
     "status": "completed"
    },
    "tags": []
   },
   "outputs": [],
   "source": [
    "df=df.drop(columns=['Date'])\n",
    "#df"
   ]
  },
  {
   "cell_type": "markdown",
   "id": "c8483341",
   "metadata": {
    "papermill": {
     "duration": 0.025527,
     "end_time": "2024-10-07T19:41:40.361563",
     "exception": false,
     "start_time": "2024-10-07T19:41:40.336036",
     "status": "completed"
    },
    "tags": []
   },
   "source": [
    "# Model Building: \n"
   ]
  },
  {
   "cell_type": "markdown",
   "id": "5fe4e716",
   "metadata": {
    "papermill": {
     "duration": 0.026667,
     "end_time": "2024-10-07T19:41:40.414051",
     "exception": false,
     "start_time": "2024-10-07T19:41:40.387384",
     "status": "completed"
    },
    "tags": []
   },
   "source": [
    "# Linear Regression for predicting Weekly_Sales:"
   ]
  },
  {
   "cell_type": "markdown",
   "id": "b68c7f78",
   "metadata": {
    "papermill": {
     "duration": 0.025746,
     "end_time": "2024-10-07T19:41:40.465453",
     "exception": false,
     "start_time": "2024-10-07T19:41:40.439707",
     "status": "completed"
    },
    "tags": []
   },
   "source": [
    "Declaring independent and dependent variables as x and y."
   ]
  },
  {
   "cell_type": "code",
   "execution_count": 25,
   "id": "8c3a9337",
   "metadata": {
    "execution": {
     "iopub.execute_input": "2024-10-07T19:41:40.519127Z",
     "iopub.status.busy": "2024-10-07T19:41:40.518702Z",
     "iopub.status.idle": "2024-10-07T19:41:40.525148Z",
     "shell.execute_reply": "2024-10-07T19:41:40.524056Z"
    },
    "papermill": {
     "duration": 0.036535,
     "end_time": "2024-10-07T19:41:40.527570",
     "exception": false,
     "start_time": "2024-10-07T19:41:40.491035",
     "status": "completed"
    },
    "tags": []
   },
   "outputs": [],
   "source": [
    "x = df.drop(['Weekly_Sales'], axis=1)\n",
    "y = df['Weekly_Sales']"
   ]
  },
  {
   "cell_type": "markdown",
   "id": "4b1663c0",
   "metadata": {
    "papermill": {
     "duration": 0.026305,
     "end_time": "2024-10-07T19:41:40.580136",
     "exception": false,
     "start_time": "2024-10-07T19:41:40.553831",
     "status": "completed"
    },
    "tags": []
   },
   "source": [
    "# Scaling Data:\n",
    "Standardization transforms the data to have a mean of 0 and a standard deviation of 1. "
   ]
  },
  {
   "cell_type": "code",
   "execution_count": 26,
   "id": "116ac27b",
   "metadata": {
    "execution": {
     "iopub.execute_input": "2024-10-07T19:41:40.634505Z",
     "iopub.status.busy": "2024-10-07T19:41:40.634079Z",
     "iopub.status.idle": "2024-10-07T19:41:40.645456Z",
     "shell.execute_reply": "2024-10-07T19:41:40.644317Z"
    },
    "papermill": {
     "duration": 0.042101,
     "end_time": "2024-10-07T19:41:40.648153",
     "exception": false,
     "start_time": "2024-10-07T19:41:40.606052",
     "status": "completed"
    },
    "tags": []
   },
   "outputs": [],
   "source": [
    "sc = StandardScaler()\n",
    "x = sc.fit_transform(x)"
   ]
  },
  {
   "cell_type": "markdown",
   "id": "d833d57f",
   "metadata": {
    "papermill": {
     "duration": 0.025304,
     "end_time": "2024-10-07T19:41:40.699488",
     "exception": false,
     "start_time": "2024-10-07T19:41:40.674184",
     "status": "completed"
    },
    "tags": []
   },
   "source": [
    "# Splitting Data:"
   ]
  },
  {
   "cell_type": "code",
   "execution_count": 27,
   "id": "fea16289",
   "metadata": {
    "execution": {
     "iopub.execute_input": "2024-10-07T19:41:40.753310Z",
     "iopub.status.busy": "2024-10-07T19:41:40.752841Z",
     "iopub.status.idle": "2024-10-07T19:41:40.797829Z",
     "shell.execute_reply": "2024-10-07T19:41:40.796169Z"
    },
    "papermill": {
     "duration": 0.077128,
     "end_time": "2024-10-07T19:41:40.802468",
     "exception": false,
     "start_time": "2024-10-07T19:41:40.725340",
     "status": "completed"
    },
    "tags": []
   },
   "outputs": [],
   "source": [
    "x_train, x_test, y_train, y_test = train_test_split(x, y, train_size=0.80,random_state=0) \n",
    "l_model=LinearRegression()\n",
    "l_model.fit(x_train, y_train)\n",
    "predictions=l_model.predict(x_test)\n",
    "r2_lr = r2_score(y_test, predictions)"
   ]
  },
  {
   "cell_type": "code",
   "execution_count": 28,
   "id": "297e84ba",
   "metadata": {
    "execution": {
     "iopub.execute_input": "2024-10-07T19:41:40.932372Z",
     "iopub.status.busy": "2024-10-07T19:41:40.931879Z",
     "iopub.status.idle": "2024-10-07T19:41:40.941729Z",
     "shell.execute_reply": "2024-10-07T19:41:40.940514Z"
    },
    "papermill": {
     "duration": 0.042237,
     "end_time": "2024-10-07T19:41:40.944322",
     "exception": false,
     "start_time": "2024-10-07T19:41:40.902085",
     "status": "completed"
    },
    "tags": []
   },
   "outputs": [
    {
     "name": "stdout",
     "output_type": "stream",
     "text": [
      "MAE:  429973.6341337775\n",
      "MSE:  269841220634.84427\n",
      "R2 0.14141505806501586\n"
     ]
    }
   ],
   "source": [
    "from sklearn import metrics\n",
    "from sklearn.metrics import mean_absolute_error,mean_squared_error\n",
    "print('MAE: ', mean_absolute_error(y_test, predictions))\n",
    "print('MSE: ', mean_squared_error(y_test, predictions)) \n",
    "print(\"R2\" , metrics.explained_variance_score(y_test, predictions))"
   ]
  },
  {
   "cell_type": "markdown",
   "id": "b67490fb",
   "metadata": {
    "papermill": {
     "duration": 0.025737,
     "end_time": "2024-10-07T19:41:40.996085",
     "exception": false,
     "start_time": "2024-10-07T19:41:40.970348",
     "status": "completed"
    },
    "tags": []
   },
   "source": [
    "# DecisionTreeRegressor Model:"
   ]
  },
  {
   "cell_type": "code",
   "execution_count": 29,
   "id": "da90a4d5",
   "metadata": {
    "execution": {
     "iopub.execute_input": "2024-10-07T19:41:41.049678Z",
     "iopub.status.busy": "2024-10-07T19:41:41.049230Z",
     "iopub.status.idle": "2024-10-07T19:41:41.093533Z",
     "shell.execute_reply": "2024-10-07T19:41:41.092195Z"
    },
    "papermill": {
     "duration": 0.074227,
     "end_time": "2024-10-07T19:41:41.096246",
     "exception": false,
     "start_time": "2024-10-07T19:41:41.022019",
     "status": "completed"
    },
    "tags": []
   },
   "outputs": [
    {
     "name": "stdout",
     "output_type": "stream",
     "text": [
      "DecisionTreeRegressor: 0.9391881282662218\n"
     ]
    }
   ],
   "source": [
    "model_dt = DecisionTreeRegressor()\n",
    "model_dt.fit(x_train, y_train)\n",
    "pred_dt = model_dt.predict(x_test)\n",
    "r2_dt = r2_score(y_test, pred_dt)\n",
    "print(\"DecisionTreeRegressor:\",r2_dt)"
   ]
  },
  {
   "cell_type": "code",
   "execution_count": 30,
   "id": "6652bebe",
   "metadata": {
    "execution": {
     "iopub.execute_input": "2024-10-07T19:41:41.149936Z",
     "iopub.status.busy": "2024-10-07T19:41:41.149504Z",
     "iopub.status.idle": "2024-10-07T19:41:41.158914Z",
     "shell.execute_reply": "2024-10-07T19:41:41.157885Z"
    },
    "papermill": {
     "duration": 0.039768,
     "end_time": "2024-10-07T19:41:41.161814",
     "exception": false,
     "start_time": "2024-10-07T19:41:41.122046",
     "status": "completed"
    },
    "tags": []
   },
   "outputs": [
    {
     "name": "stdout",
     "output_type": "stream",
     "text": [
      "MAE 71525.72563344595\n",
      "MSE 19070384442.82028\n",
      "RMSE 138095.56271951782\n",
      "R2 0.9392028912463968\n"
     ]
    }
   ],
   "source": [
    "print(\"MAE\" , metrics.mean_absolute_error(y_test, pred_dt))\n",
    "print(\"MSE\" , metrics.mean_squared_error(y_test, pred_dt))\n",
    "print(\"RMSE\" , np.sqrt(metrics.mean_squared_error(y_test, pred_dt)))\n",
    "print(\"R2\" , metrics.explained_variance_score(y_test, pred_dt))"
   ]
  },
  {
   "cell_type": "markdown",
   "id": "9812e8af",
   "metadata": {
    "papermill": {
     "duration": 0.025672,
     "end_time": "2024-10-07T19:41:41.213426",
     "exception": false,
     "start_time": "2024-10-07T19:41:41.187754",
     "status": "completed"
    },
    "tags": []
   },
   "source": [
    "# RandomForestRegressor for predicting Weekly_Sales :"
   ]
  },
  {
   "cell_type": "code",
   "execution_count": 31,
   "id": "2cc7c5ce",
   "metadata": {
    "execution": {
     "iopub.execute_input": "2024-10-07T19:41:41.267126Z",
     "iopub.status.busy": "2024-10-07T19:41:41.266748Z",
     "iopub.status.idle": "2024-10-07T19:41:43.737326Z",
     "shell.execute_reply": "2024-10-07T19:41:43.736056Z"
    },
    "papermill": {
     "duration": 2.500276,
     "end_time": "2024-10-07T19:41:43.739864",
     "exception": false,
     "start_time": "2024-10-07T19:41:41.239588",
     "status": "completed"
    },
    "tags": []
   },
   "outputs": [
    {
     "name": "stdout",
     "output_type": "stream",
     "text": [
      "Random Forest Regressor R2 -  0.9635689556422361\n"
     ]
    }
   ],
   "source": [
    "from sklearn.ensemble import RandomForestRegressor\n",
    "rf = RandomForestRegressor()\n",
    "rf.fit(x_train, y_train)\n",
    "pred_rf = rf.predict(x_test)\n",
    "r2_rf = r2_score(y_test, pred_rf)\n",
    "print(\"Random Forest Regressor R2 - \",r2_rf)"
   ]
  },
  {
   "cell_type": "code",
   "execution_count": 32,
   "id": "68167dd1",
   "metadata": {
    "execution": {
     "iopub.execute_input": "2024-10-07T19:41:43.793223Z",
     "iopub.status.busy": "2024-10-07T19:41:43.792831Z",
     "iopub.status.idle": "2024-10-07T19:41:43.802202Z",
     "shell.execute_reply": "2024-10-07T19:41:43.801081Z"
    },
    "papermill": {
     "duration": 0.039382,
     "end_time": "2024-10-07T19:41:43.804849",
     "exception": false,
     "start_time": "2024-10-07T19:41:43.765467",
     "status": "completed"
    },
    "scrolled": true,
    "tags": []
   },
   "outputs": [
    {
     "name": "stdout",
     "output_type": "stream",
     "text": [
      "MAE:  58400.096004898674\n",
      "MSE:  11424644592.382977\n",
      "R2 0.9635727462947988\n"
     ]
    }
   ],
   "source": [
    "from sklearn import metrics\n",
    "from sklearn.metrics import mean_absolute_error,mean_squared_error\n",
    "print('MAE: ', mean_absolute_error(y_test, pred_rf))\n",
    "print('MSE: ', mean_squared_error(y_test, pred_rf)) \n",
    "print(\"R2\" , metrics.explained_variance_score(y_test, pred_rf))"
   ]
  },
  {
   "cell_type": "markdown",
   "id": "0a61f3b4",
   "metadata": {
    "papermill": {
     "duration": 0.025401,
     "end_time": "2024-10-07T19:41:43.856185",
     "exception": false,
     "start_time": "2024-10-07T19:41:43.830784",
     "status": "completed"
    },
    "tags": []
   },
   "source": [
    "# xgboostRegressor:"
   ]
  },
  {
   "cell_type": "code",
   "execution_count": 33,
   "id": "321751b3",
   "metadata": {
    "execution": {
     "iopub.execute_input": "2024-10-07T19:41:43.910524Z",
     "iopub.status.busy": "2024-10-07T19:41:43.909982Z",
     "iopub.status.idle": "2024-10-07T19:41:43.914788Z",
     "shell.execute_reply": "2024-10-07T19:41:43.913731Z"
    },
    "papermill": {
     "duration": 0.034321,
     "end_time": "2024-10-07T19:41:43.917167",
     "exception": false,
     "start_time": "2024-10-07T19:41:43.882846",
     "status": "completed"
    },
    "tags": []
   },
   "outputs": [],
   "source": [
    "#!pip install xgboost  \n",
    "#!pip install plotly"
   ]
  },
  {
   "cell_type": "code",
   "execution_count": 34,
   "id": "bd9e668f",
   "metadata": {
    "execution": {
     "iopub.execute_input": "2024-10-07T19:41:43.970186Z",
     "iopub.status.busy": "2024-10-07T19:41:43.969782Z",
     "iopub.status.idle": "2024-10-07T19:41:44.348768Z",
     "shell.execute_reply": "2024-10-07T19:41:44.347859Z"
    },
    "papermill": {
     "duration": 0.408549,
     "end_time": "2024-10-07T19:41:44.351419",
     "exception": false,
     "start_time": "2024-10-07T19:41:43.942870",
     "status": "completed"
    },
    "tags": []
   },
   "outputs": [
    {
     "name": "stdout",
     "output_type": "stream",
     "text": [
      "XGBRegressor R2 -  0.9818391454394745\n"
     ]
    }
   ],
   "source": [
    "xgbr = XGBRegressor()\n",
    "xgbr.fit(x_train, y_train)\n",
    "pred_xgbr = xgbr.predict(x_test)\n",
    "r2_xgbr = r2_score(y_test, pred_xgbr)\n",
    "print(\"XGBRegressor R2 - \",r2_xgbr)"
   ]
  },
  {
   "cell_type": "code",
   "execution_count": 35,
   "id": "e7511aaf",
   "metadata": {
    "execution": {
     "iopub.execute_input": "2024-10-07T19:41:44.407160Z",
     "iopub.status.busy": "2024-10-07T19:41:44.406217Z",
     "iopub.status.idle": "2024-10-07T19:41:44.416896Z",
     "shell.execute_reply": "2024-10-07T19:41:44.415649Z"
    },
    "papermill": {
     "duration": 0.040888,
     "end_time": "2024-10-07T19:41:44.419383",
     "exception": false,
     "start_time": "2024-10-07T19:41:44.378495",
     "status": "completed"
    },
    "tags": []
   },
   "outputs": [
    {
     "name": "stdout",
     "output_type": "stream",
     "text": [
      "MAE 46669.36980838261\n",
      "MSE 5695178727.52789\n",
      "RMSE 75466.40794106932\n",
      "R2 0.9818425378560012\n"
     ]
    }
   ],
   "source": [
    "print(\"MAE\" , metrics.mean_absolute_error(y_test, pred_xgbr))\n",
    "print(\"MSE\" , metrics.mean_squared_error(y_test, pred_xgbr))\n",
    "print(\"RMSE\" , np.sqrt(metrics.mean_squared_error(y_test, pred_xgbr)))\n",
    "print(\"R2\" , metrics.explained_variance_score(y_test, pred_xgbr))\n",
    "     "
   ]
  },
  {
   "cell_type": "code",
   "execution_count": null,
   "id": "bdc2c270",
   "metadata": {
    "papermill": {
     "duration": 0.025397,
     "end_time": "2024-10-07T19:41:44.470798",
     "exception": false,
     "start_time": "2024-10-07T19:41:44.445401",
     "status": "completed"
    },
    "tags": []
   },
   "outputs": [],
   "source": []
  },
  {
   "cell_type": "markdown",
   "id": "c75b52ea",
   "metadata": {
    "papermill": {
     "duration": 0.0255,
     "end_time": "2024-10-07T19:41:44.521890",
     "exception": false,
     "start_time": "2024-10-07T19:41:44.496390",
     "status": "completed"
    },
    "tags": []
   },
   "source": [
    "# Comparing Models:"
   ]
  },
  {
   "cell_type": "code",
   "execution_count": 36,
   "id": "df044723",
   "metadata": {
    "execution": {
     "iopub.execute_input": "2024-10-07T19:41:44.575799Z",
     "iopub.status.busy": "2024-10-07T19:41:44.575425Z",
     "iopub.status.idle": "2024-10-07T19:41:44.587232Z",
     "shell.execute_reply": "2024-10-07T19:41:44.586321Z"
    },
    "papermill": {
     "duration": 0.041741,
     "end_time": "2024-10-07T19:41:44.589601",
     "exception": false,
     "start_time": "2024-10-07T19:41:44.547860",
     "status": "completed"
    },
    "tags": []
   },
   "outputs": [
    {
     "data": {
      "text/html": [
       "<div>\n",
       "<style scoped>\n",
       "    .dataframe tbody tr th:only-of-type {\n",
       "        vertical-align: middle;\n",
       "    }\n",
       "\n",
       "    .dataframe tbody tr th {\n",
       "        vertical-align: top;\n",
       "    }\n",
       "\n",
       "    .dataframe thead th {\n",
       "        text-align: right;\n",
       "    }\n",
       "</style>\n",
       "<table border=\"1\" class=\"dataframe\">\n",
       "  <thead>\n",
       "    <tr style=\"text-align: right;\">\n",
       "      <th></th>\n",
       "      <th>model</th>\n",
       "      <th>R2</th>\n",
       "    </tr>\n",
       "  </thead>\n",
       "  <tbody>\n",
       "    <tr>\n",
       "      <th>0</th>\n",
       "      <td>LinearRegression</td>\n",
       "      <td>0.139527</td>\n",
       "    </tr>\n",
       "    <tr>\n",
       "      <th>1</th>\n",
       "      <td>RandomForestRegressor</td>\n",
       "      <td>0.963569</td>\n",
       "    </tr>\n",
       "    <tr>\n",
       "      <th>2</th>\n",
       "      <td>XGBRegressor</td>\n",
       "      <td>0.981839</td>\n",
       "    </tr>\n",
       "    <tr>\n",
       "      <th>3</th>\n",
       "      <td>DecisionTreeRegressor</td>\n",
       "      <td>0.939188</td>\n",
       "    </tr>\n",
       "  </tbody>\n",
       "</table>\n",
       "</div>"
      ],
      "text/plain": [
       "                   model        R2\n",
       "0       LinearRegression  0.139527\n",
       "1  RandomForestRegressor  0.963569\n",
       "2           XGBRegressor  0.981839\n",
       "3  DecisionTreeRegressor  0.939188"
      ]
     },
     "execution_count": 36,
     "metadata": {},
     "output_type": "execute_result"
    }
   ],
   "source": [
    "compare = {'model':['LinearRegression','RandomForestRegressor','XGBRegressor','DecisionTreeRegressor'],\n",
    "           'R2':[r2_lr,r2_rf,r2_xgbr,r2_dt]}\n",
    "compare_df = pd.DataFrame(compare)\n",
    "compare_df"
   ]
  },
  {
   "cell_type": "code",
   "execution_count": 37,
   "id": "8212f183",
   "metadata": {
    "execution": {
     "iopub.execute_input": "2024-10-07T19:41:44.643985Z",
     "iopub.status.busy": "2024-10-07T19:41:44.643584Z",
     "iopub.status.idle": "2024-10-07T19:41:44.884605Z",
     "shell.execute_reply": "2024-10-07T19:41:44.883512Z"
    },
    "papermill": {
     "duration": 0.271029,
     "end_time": "2024-10-07T19:41:44.887125",
     "exception": false,
     "start_time": "2024-10-07T19:41:44.616096",
     "status": "completed"
    },
    "tags": []
   },
   "outputs": [
    {
     "data": {
      "image/png": "[encoded data removed]",
      "text/plain": [
       "<Figure size 1000x500 with 1 Axes>"
      ]
     },
     "metadata": {},
     "output_type": "display_data"
    }
   ],
   "source": [
    "plt.figure(figsize=(10,5))\n",
    "sns.barplot(x='model',y='R2',data=compare_df)\n",
    "plt.show()"
   ]
  },
  {
   "cell_type": "markdown",
   "id": "7e8d14da",
   "metadata": {
    "papermill": {
     "duration": 0.026285,
     "end_time": "2024-10-07T19:41:44.940677",
     "exception": false,
     "start_time": "2024-10-07T19:41:44.914392",
     "status": "completed"
    },
    "tags": []
   },
   "source": [
    "# Inferences:"
   ]
  },
  {
   "cell_type": "markdown",
   "id": "b66d258e",
   "metadata": {
    "papermill": {
     "duration": 0.026349,
     "end_time": "2024-10-07T19:41:44.993485",
     "exception": false,
     "start_time": "2024-10-07T19:41:44.967136",
     "status": "completed"
    },
    "tags": []
   },
   "source": [
    "NOW WE CAN EASILY COMPARE THE BEST WAY TO TRAIN OUR MODEL AND PREDICT A BETTER AND EFFICIENT RESULTS."
   ]
  },
  {
   "cell_type": "code",
   "execution_count": null,
   "id": "020de837",
   "metadata": {
    "papermill": {
     "duration": 0.026376,
     "end_time": "2024-10-07T19:41:45.046705",
     "exception": false,
     "start_time": "2024-10-07T19:41:45.020329",
     "status": "completed"
    },
    "tags": []
   },
   "outputs": [],
   "source": []
  }
 ],
 "metadata": {
  "kaggle": {
   "accelerator": "none",
   "dataSources": [
    {
     "datasetId": 3885982,
     "sourceId": 6749446,
     "sourceType": "datasetVersion"
    }
   ],
   "dockerImageVersionId": 30558,
   "isGpuEnabled": false,
   "isInternetEnabled": true,
   "language": "python",
   "sourceType": "notebook"
  },
  "kernelspec": {
   "display_name": "Python 3",
   "language": "python",
   "name": "python3"
  },
  "language_info": {
   "codemirror_mode": {
    "name": "ipython",
    "version": 3
   },
   "file_extension": ".py",
   "mimetype": "text/x-python",
   "name": "python",
   "nbconvert_exporter": "python",
   "pygments_lexer": "ipython3",
   "version": "3.10.12"
  },
  "papermill": {
   "default_parameters": {},
   "duration": 18.264593,
   "end_time": "2024-10-07T19:41:45.695490",
   "environment_variables": {},
   "exception": null,
   "input_path": "__notebook__.ipynb",
   "output_path": "__notebook__.ipynb",
   "parameters": {},
   "start_time": "2024-10-07T19:41:27.430897",
   "version": "2.4.0"
  }
 },
 "nbformat": 4,
 "nbformat_minor": 5
}
